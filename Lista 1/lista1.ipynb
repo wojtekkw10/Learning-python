{
 "cells": [
  {
   "cell_type": "code",
   "execution_count": null,
   "metadata": {
    "pycharm": {
     "name": "#%%\n"
    }
   },
   "outputs": [],
   "source": []
  },
  {
   "cell_type": "markdown",
   "metadata": {},
   "source": [
    "# Lista 1\n",
    "\n",
    "## Kurs wybranego języka programowania (Python)\n",
    "\n",
    "Wszystkie rozwiązania proszę wpisać w tym notatniku poniżej treści zadań. Zadania z `*` to zadania dodatkowe."
   ]
  },
  {
   "cell_type": "markdown",
   "metadata": {},
   "source": [
    "## Zadanie 1 _(5pt)_\n",
    "\n",
    "Napisz funkcję, który wyświetla trójkąt Pascala o zadanej wysokości\n",
    "```\n",
    "                1\n",
    "              1   1\n",
    "            1   2   1\n",
    "          1   3   3   1\n",
    "        1   4   6   4   1\n",
    "      .....................\n",
    "```"
   ]
  },
  {
   "cell_type": "code",
   "execution_count": 1,
   "metadata": {
    "pycharm": {
     "is_executing": false,
     "name": "#%%\n"
    }
   },
   "outputs": [
    {
     "name": "stdout",
     "output_type": "stream",
     "text": [
      "                              1       \n",
      "                          1       1       \n",
      "                      1       2       1       \n",
      "                  1       3       3       1       \n",
      "              1       4       6       4       1       \n",
      "          1       5       10      10      5       1       \n",
      "      1       6       15      20      15      6       1       \n",
      "  1       7       21      35      35      21      7       1       \n"
     ]
    }
   ],
   "source": [
    "from math import log, sqrt\n",
    "def pascal_triangle(n):\n",
    "    row = [1]\n",
    "    size = max(8, n+1)\n",
    "    fix = 0\n",
    "    for i in range(1,n+1):\n",
    "        print_row(row, int(size/2*n-i*size/2+fix), size)\n",
    "        row = get_new_row(row)\n",
    "        fix += 0.5\n",
    "        \n",
    "def get_new_row(row):\n",
    "    new_row = [1]\n",
    "    for i in range(0,len(row)-1):\n",
    "        new_row.append(row[i]+row[i+1])\n",
    "    new_row.append(1)\n",
    "    return new_row\n",
    "\n",
    "def print_row(row, shift, width):\n",
    "    for i in range(1, shift):\n",
    "        print(\" \", end=\"\")\n",
    "    for i in row:\n",
    "        print(i, end=\"\")\n",
    "        for j in range(1, width-len(str(i))): \n",
    "            print(\" \", end=\"\")\n",
    "    print()\n",
    "\n",
    "pascal_triangle(8)"
   ]
  },
  {
   "cell_type": "markdown",
   "metadata": {},
   "source": [
    "## Zadanie 2 _(5pt)_\n",
    "\n",
    "Napisz funkcję `primes(n)` zwracająca listę liczb pierwszych nie większych niż $n$ np.\n",
    "\n",
    "```\n",
    "In [ ]:   primes(6)\n",
    "Out [ ]: [2, 3, 5]\n",
    "```"
   ]
  },
  {
   "cell_type": "code",
   "execution_count": 2,
   "metadata": {
    "pycharm": {
     "is_executing": false,
     "name": "#%%\n"
    }
   },
   "outputs": [
    {
     "name": "stdout",
     "output_type": "stream",
     "text": [
      "[2, 3, 5, 7, 11, 13, 17, 19, 23, 29, 31, 37, 41, 43, 47, 53, 59, 61, 67, 71, 73, 79, 83, 89, 97, 101, 103, 107, 109, 113, 127, 131, 137, 139, 149, 151, 157, 163, 167, 173, 179, 181, 191, 193, 197, 199, 211, 223, 227, 229, 233, 239, 241, 251, 257, 263, 269, 271, 277, 281, 283, 293, 307, 311, 313, 317, 331, 337, 347, 349, 353, 359, 367, 373, 379, 383, 389, 397, 401, 409, 419, 421, 431, 433, 439, 443, 449, 457, 461, 463, 467, 479, 487, 491, 499, 503, 509, 521, 523, 541, 547, 557, 563, 569, 571, 577, 587, 593, 599, 601, 607, 613, 617, 619, 631, 641, 643, 647, 653, 659, 661, 673, 677, 683, 691, 701, 709, 719, 727, 733, 739, 743, 751, 757, 761, 769, 773, 787, 797, 809, 811, 821, 823, 827, 829, 839, 853, 857, 859, 863, 877, 881, 883, 887, 907, 911, 919, 929, 937, 941, 947, 953, 967, 971, 977, 983, 991, 997, 1009, 1013, 1019, 1021, 1031, 1033, 1039, 1049, 1051, 1061, 1063, 1069, 1087, 1091, 1093, 1097, 1103, 1109, 1117, 1123, 1129, 1151, 1153, 1163, 1171, 1181, 1187, 1193, 1201, 1213, 1217, 1223, 1229, 1231, 1237, 1249, 1259, 1277, 1279, 1283, 1289, 1291, 1297, 1301, 1303, 1307, 1319, 1321, 1327, 1361, 1367, 1373, 1381, 1399, 1409, 1423, 1427, 1429, 1433, 1439, 1447, 1451, 1453, 1459, 1471, 1481, 1483, 1487, 1489, 1493, 1499, 1511, 1523, 1531, 1543, 1549, 1553, 1559, 1567, 1571, 1579, 1583, 1597, 1601, 1607, 1609, 1613, 1619, 1621, 1627, 1637, 1657, 1663, 1667, 1669, 1693, 1697, 1699, 1709, 1721, 1723, 1733, 1741, 1747, 1753, 1759, 1777, 1783, 1787, 1789, 1801, 1811, 1823, 1831, 1847, 1861, 1867, 1871, 1873, 1877, 1879, 1889, 1901, 1907, 1913, 1931, 1933, 1949, 1951, 1973, 1979, 1987, 1993, 1997, 1999, 2003, 2011, 2017, 2027, 2029, 2039, 2053, 2063, 2069, 2081, 2083, 2087, 2089, 2099, 2111, 2113, 2129, 2131, 2137, 2141, 2143, 2153, 2161, 2179, 2203, 2207, 2213, 2221, 2237, 2239, 2243, 2251, 2267, 2269, 2273, 2281, 2287, 2293, 2297, 2309, 2311, 2333, 2339, 2341, 2347, 2351, 2357, 2371, 2377, 2381, 2383, 2389, 2393, 2399, 2411, 2417, 2423, 2437, 2441, 2447, 2459, 2467, 2473, 2477, 2503, 2521, 2531, 2539, 2543, 2549, 2551, 2557, 2579, 2591, 2593, 2609, 2617, 2621, 2633, 2647, 2657, 2659, 2663, 2671, 2677, 2683, 2687, 2689, 2693, 2699, 2707, 2711, 2713, 2719, 2729, 2731, 2741, 2749, 2753, 2767, 2777, 2789, 2791, 2797, 2801, 2803, 2819, 2833, 2837, 2843, 2851, 2857, 2861, 2879, 2887, 2897, 2903, 2909, 2917, 2927, 2939, 2953, 2957, 2963, 2969, 2971, 2999, 3001, 3011, 3019, 3023, 3037, 3041, 3049, 3061, 3067, 3079, 3083, 3089, 3109, 3119, 3121, 3137, 3163, 3167, 3169, 3181, 3187, 3191, 3203, 3209, 3217, 3221, 3229, 3251, 3253, 3257, 3259, 3271, 3299, 3301, 3307, 3313, 3319, 3323, 3329, 3331, 3343, 3347, 3359, 3361, 3371, 3373, 3389, 3391, 3407, 3413, 3433, 3449, 3457, 3461, 3463, 3467, 3469, 3491, 3499, 3511, 3517, 3527, 3529, 3533, 3539, 3541, 3547, 3557, 3559, 3571, 3581, 3583, 3593, 3607, 3613, 3617, 3623, 3631, 3637, 3643, 3659, 3671, 3673, 3677, 3691, 3697, 3701, 3709, 3719, 3727, 3733, 3739, 3761, 3767, 3769, 3779, 3793, 3797, 3803, 3821, 3823, 3833, 3847, 3851, 3853, 3863, 3877, 3881, 3889, 3907, 3911, 3917, 3919, 3923, 3929, 3931, 3943, 3947, 3967, 3989, 4001, 4003, 4007, 4013, 4019, 4021, 4027, 4049, 4051, 4057, 4073, 4079, 4091, 4093, 4099, 4111, 4127, 4129, 4133, 4139, 4153, 4157, 4159, 4177, 4201, 4211, 4217, 4219, 4229, 4231, 4241, 4243, 4253, 4259, 4261, 4271, 4273, 4283, 4289, 4297, 4327, 4337, 4339, 4349, 4357, 4363, 4373, 4391, 4397, 4409, 4421, 4423, 4441, 4447, 4451, 4457, 4463, 4481, 4483, 4493, 4507, 4513, 4517, 4519, 4523, 4547, 4549, 4561, 4567, 4583, 4591, 4597, 4603, 4621, 4637, 4639, 4643, 4649, 4651, 4657, 4663, 4673, 4679, 4691, 4703, 4721, 4723, 4729, 4733, 4751, 4759, 4783, 4787, 4789, 4793, 4799, 4801, 4813, 4817, 4831, 4861, 4871, 4877, 4889, 4903, 4909, 4919, 4931, 4933, 4937, 4943, 4951, 4957, 4967, 4969, 4973, 4987, 4993, 4999, 5003, 5009, 5011, 5021, 5023, 5039, 5051, 5059, 5077, 5081, 5087, 5099, 5101, 5107, 5113, 5119, 5147, 5153, 5167, 5171, 5179, 5189, 5197, 5209, 5227, 5231, 5233, 5237, 5261, 5273, 5279, 5281, 5297, 5303, 5309, 5323, 5333, 5347, 5351, 5381, 5387, 5393, 5399, 5407, 5413, 5417, 5419, 5431, 5437, 5441, 5443, 5449, 5471, 5477, 5479, 5483, 5501, 5503, 5507, 5519, 5521, 5527, 5531, 5557, 5563, 5569, 5573, 5581, 5591, 5623, 5639, 5641, 5647, 5651, 5653, 5657, 5659, 5669, 5683, 5689, 5693, 5701, 5711, 5717, 5737, 5741, 5743, 5749, 5779, 5783, 5791, 5801, 5807, 5813, 5821, 5827, 5839, 5843, 5849, 5851, 5857, 5861, 5867, 5869, 5879, 5881, 5897, 5903, 5923, 5927, 5939, 5953, 5981, 5987, 6007, 6011, 6029, 6037, 6043, 6047, 6053, 6067, 6073, 6079, 6089, 6091, 6101, 6113, 6121, 6131, 6133, 6143, 6151, 6163, 6173, 6197, 6199, 6203, 6211, 6217, 6221, 6229, 6247, 6257, 6263, 6269, 6271, 6277, 6287, 6299, 6301, 6311, 6317, 6323, 6329, 6337, 6343, 6353, 6359, 6361, 6367, 6373, 6379, 6389, 6397, 6421, 6427, 6449, 6451, 6469, 6473, 6481, 6491, 6521, 6529, 6547, 6551, 6553, 6563, 6569, 6571, 6577, 6581, 6599, 6607, 6619, 6637, 6653, 6659, 6661, 6673, 6679, 6689, 6691, 6701, 6703, 6709, 6719, 6733, 6737, 6761, 6763, 6779, 6781, 6791, 6793, 6803, 6823, 6827, 6829, 6833, 6841, 6857, 6863, 6869, 6871, 6883, 6899, 6907, 6911, 6917, 6947, 6949, 6959, 6961, 6967, 6971, 6977, 6983, 6991, 6997, 7001, 7013, 7019, 7027, 7039, 7043, 7057, 7069, 7079, 7103, 7109, 7121, 7127, 7129, 7151, 7159, 7177, 7187, 7193, 7207, 7211, 7213, 7219, 7229, 7237, 7243, 7247, 7253, 7283, 7297, 7307, 7309, 7321, 7331, 7333, 7349, 7351, 7369, 7393, 7411, 7417, 7433, 7451, 7457, 7459, 7477, 7481, 7487, 7489, 7499, 7507, 7517, 7523, 7529, 7537, 7541, 7547, 7549, 7559, 7561, 7573, 7577, 7583, 7589, 7591, 7603, 7607, 7621, 7639, 7643, 7649, 7669, 7673, 7681, 7687, 7691, 7699, 7703, 7717, 7723, 7727, 7741, 7753, 7757, 7759, 7789, 7793, 7817, 7823, 7829, 7841, 7853, 7867, 7873, 7877, 7879, 7883, 7901, 7907, 7919, 7927, 7933, 7937, 7949, 7951, 7963, 7993, 8009, 8011, 8017, 8039, 8053, 8059, 8069, 8081, 8087, 8089, 8093, 8101, 8111, 8117, 8123, 8147, 8161, 8167, 8171, 8179, 8191, 8209, 8219, 8221, 8231, 8233, 8237, 8243, 8263, 8269, 8273, 8287, 8291, 8293, 8297, 8311, 8317, 8329, 8353, 8363, 8369, 8377, 8387, 8389, 8419, 8423, 8429, 8431, 8443, 8447, 8461, 8467, 8501, 8513, 8521, 8527, 8537, 8539, 8543, 8563, 8573, 8581, 8597, 8599, 8609, 8623, 8627, 8629, 8641, 8647, 8663, 8669, 8677, 8681, 8689, 8693, 8699, 8707, 8713, 8719, 8731, 8737, 8741, 8747, 8753, 8761, 8779, 8783, 8803, 8807, 8819, 8821, 8831, 8837, 8839, 8849, 8861, 8863, 8867, 8887, 8893, 8923, 8929, 8933, 8941, 8951, 8963, 8969, 8971, 8999, 9001, 9007, 9011, 9013, 9029, 9041, 9043, 9049, 9059, 9067, 9091, 9103, 9109, 9127, 9133, 9137, 9151, 9157, 9161, 9173, 9181, 9187, 9199, 9203, 9209, 9221, 9227, 9239, 9241, 9257, 9277, 9281, 9283, 9293, 9311, 9319, 9323, 9337, 9341, 9343, 9349, 9371, 9377, 9391, 9397, 9403, 9413, 9419, 9421, 9431, 9433, 9437, 9439, 9461, 9463, 9467, 9473, 9479, 9491, 9497, 9511, 9521, 9533, 9539, 9547, 9551, 9587, 9601, 9613, 9619, 9623, 9629, 9631, 9643, 9649, 9661, 9677, 9679, 9689, 9697, 9719, 9721, 9733, 9739, 9743, 9749, 9767, 9769, 9781, 9787, 9791, 9803, 9811, 9817, 9829, 9833, 9839, 9851, 9857, 9859, 9871, 9883, 9887, 9901, 9907, 9923, 9929, 9931, 9941, 9949, 9967, 9973]\n"
     ]
    }
   ],
   "source": [
    "from math import log, sqrt\n",
    "def primes(n):\n",
    "    sieve = [i for i in range(2,n)]\n",
    "    for i in range(2, int(sqrt(n)+1)):\n",
    "        for j in range(2*i, n, i):\n",
    "            sieve[j-2] = 0\n",
    "    sieve = remove_zeros(sieve)\n",
    "    print(sieve)\n",
    "    \n",
    "def remove_zeros(my_list):\n",
    "    new_list = []\n",
    "    for i in my_list:\n",
    "        if i!=0:\n",
    "           new_list.append(i)\n",
    "    return new_list\n",
    "\n",
    "primes(10000)\n"
   ]
  },
  {
   "cell_type": "markdown",
   "metadata": {},
   "source": [
    "## Zadanie 3 _(5pt)_\n",
    "\n",
    "Napisz funkcje, która usuwa wszystkie powtarzające się elementy z listy (tak, że każdy element występuje tylko raz) np. z listy `[1,1,2,2,2,3,3,5,5,5,4,4,4,0]` dostajemy `[1,2,3,5,4,0]`."
   ]
  },
  {
   "cell_type": "code",
   "execution_count": 37,
   "metadata": {
    "pycharm": {
     "is_executing": false,
     "name": "#%%\n"
    }
   },
   "outputs": [
    {
     "name": "stdout",
     "output_type": "stream",
     "text": [
      "[1, 2, 3, 5, 4, 0]\n"
     ]
    }
   ],
   "source": [
    "def remove_duplicates(my_list):\n",
    "    scope = len(my_list)-1\n",
    "    i = 0\n",
    "    while i < scope:\n",
    "        if my_list[i] == my_list[i+1]:\n",
    "            scope -= 1\n",
    "            my_list.remove(my_list[i])\n",
    "            i = max(0, i-1)\n",
    "        i += 1\n",
    "    return my_list\n",
    "            \n",
    "print(remove_duplicates([1,1,2,2,2,2,3,3,3,3,3,3,3,3,3,5,5,5,5,4,4,4,4,0]))\n",
    "            \n"
   ]
  },
  {
   "cell_type": "markdown",
   "metadata": {},
   "source": [
    "## Zadanie 4 _(10pt)_\n",
    "\n",
    "Napisz funkcję `prime_factors(n)`, która rozkłada $n$ na czynniki pierwsze i jako wynik wraca listę par $[(p_1,\\alpha_1), (p_2,\\alpha_2), \\ldots, (p_k, \\alpha_k)]$ taką, że $p_1^{\\alpha_1}p_2^{\\alpha_2}\\ldots p_k^{\\alpha_k}$.\n"
   ]
  },
  {
   "cell_type": "code",
   "execution_count": 3,
   "metadata": {
    "pycharm": {
     "is_executing": false,
     "name": "#%%\n"
    }
   },
   "outputs": [
    {
     "name": "stdout",
     "output_type": "stream",
     "text": [
      "[(2, 1), (3, 1), (17, 1)]\n"
     ]
    }
   ],
   "source": [
    "def prime_factors(n):\n",
    "    factors = []\n",
    "    factor = 2\n",
    "    while n>1:\n",
    "        number_of = 0\n",
    "        while n % factor == 0: \n",
    "            number_of += 1\n",
    "            n/=factor\n",
    "        if number_of != 0:\n",
    "            factors.append((factor, number_of))\n",
    "        factor+=1\n",
    "    return factors\n",
    "\n",
    "print(prime_factors(102))"
   ]
  },
  {
   "cell_type": "markdown",
   "metadata": {},
   "source": [
    "## Zadanie 5 _(10pt)_\n",
    "\n",
    "Napisz funkcję `fraczero(n)` liczącą silnie $n!$ dla $n$ od $0$ do $10000$ oraz jako wynik wraca liczbę zer na końcu $n!$."
   ]
  },
  {
   "cell_type": "code",
   "execution_count": 18,
   "metadata": {
    "pycharm": {
     "is_executing": false,
     "name": "#%%\n"
    }
   },
   "outputs": [
    {
     "name": "stdout",
     "output_type": "stream",
     "text": [
      "479001600\n",
      "2\n"
     ]
    }
   ],
   "source": [
    "def fact(n):\n",
    "    result = 1\n",
    "    for i in range(2,n+1):\n",
    "        result *= i\n",
    "    return result\n",
    "\n",
    "def fraczero(n):\n",
    "    s = str(fact(n))\n",
    "    i = s[-1]\n",
    "    counter = 0\n",
    "    while i == '0':\n",
    "        counter += 1\n",
    "        i = s[-1-counter]\n",
    "    return counter\n",
    "\n",
    "print(fact(12))\n",
    "print(fraczero(12))"
   ]
  },
  {
   "cell_type": "markdown",
   "metadata": {},
   "source": [
    "## Zadanie 6 _(10pt)_\n",
    "\n",
    "Napisz program, który generuje liczbę $20$ liczb losowych (rozkład jednostajny) od $1$ do $100$\n",
    "* Wyświetl listę wygenerowanych liczb\n",
    "* Wyświetl średnią\n",
    "* Wyświetl największą i najmniejszą wartość\n",
    "* Wyświetl drugą największą i drugą najmniejszą wartość na liście\n",
    "* Wyświetl ile jest liczb parzystych na liście\n",
    " "
   ]
  },
  {
   "cell_type": "code",
   "execution_count": 31,
   "metadata": {
    "pycharm": {
     "is_executing": false,
     "name": "#%%\n"
    }
   },
   "outputs": [
    {
     "name": "stdout",
     "output_type": "stream",
     "text": [
      "[52, 30, 25, 40, 55, 77, 99, 28, 90, 81, 46, 95, 92, 37, 46, 20, 86, 64, 27, 55]\n",
      "57.25\n",
      "99\n",
      "20\n",
      "95\n",
      "25\n",
      "11\n"
     ]
    }
   ],
   "source": [
    "from random import randint\n",
    "\n",
    "#wygenerowanie listy\n",
    "my_list = [randint(1, 100) for i in range(0,20)]\n",
    "print(my_list)\n",
    "\n",
    "#srednia\n",
    "print(sum(my_list)/len(my_list))\n",
    "\n",
    "my_list.sort()\n",
    "\n",
    "#najwieksza\n",
    "print(my_list[-1])\n",
    "\n",
    "#najmniejsza\n",
    "print(my_list[0])\n",
    "\n",
    "#druga najwieksza\n",
    "print(my_list[-2])\n",
    "\n",
    "#druga najmniejsza\n",
    "print(my_list[1])\n",
    "\n",
    "counter = 0\n",
    "for i in my_list:\n",
    "    if i%2==0:\n",
    "        counter += 1\n",
    "#ilosc parzystych liczb na liscie\n",
    "print(counter)\n",
    "\n",
    "\n"
   ]
  },
  {
   "cell_type": "markdown",
   "metadata": {},
   "source": [
    "## Zadanie 7 _(10pt)_\n",
    "\n",
    "Załóżmy, że mamy następującą listę: `L = ['aababacaa', 'cabaabcca', 'aaabbcbacb', 'acababbaab', ...]` wygenerowaną losowo tzn. lista zawiera losowe ciągi znaków o zadanej długości z liter `'a'`, `'b'` i `'c'`. Takie wzorce występują w wielu miejscach np. sekwencje DNA. Użytkownik zawiera swój (wzorzec) ciąg znaków z literami i pustymi miejscami oznaczonymi przez `'*'` np. `\"a**a******\"`. Wykorzystaj słownik z kluczami zawierającymi indeksy znaków różnych od `'*'` i wartościami liter z wzorca. Napisz program, który znajduje wszystkie sekwencje z listy, które pasuje do podanego wzorca."
   ]
  },
  {
   "cell_type": "code",
   "execution_count": 95,
   "metadata": {
    "pycharm": {
     "is_executing": false,
     "name": "#%%\n"
    }
   },
   "outputs": [
    {
     "name": "stdout",
     "output_type": "stream",
     "text": [
      "2\n",
      "17\n"
     ]
    }
   ],
   "source": [
    "pattern = { 0: \"a\", 2: \"b\", 3: \"c\", 4:\"c\"}\n",
    "DNA = \"ababbccccccabababacbccbcbbbcb\"\n",
    "\n",
    "for i, value in enumerate(str):\n",
    "    matched = True\n",
    "    for j in pattern:\n",
    "        if DNA[i+j] != pattern[j]:\n",
    "            matched = False\n",
    "            break\n",
    "    if matched:\n",
    "        print(i)\n",
    "            \n"
   ]
  },
  {
   "cell_type": "markdown",
   "metadata": {},
   "source": [
    "## Zadanie 8 _(10pt)_\n",
    "\n",
    "Napisz program, który konwerteruje liczby rzymskie na liczby arabskie. Do zapisu liczb rzymskich używa\n",
    "się 7 liter: `I=1`, `V=5`, `X=10`, `L=50`, `C=100`, `D=500`, `M=1000`. Opis algorytmu zamiany z i na system rzymski można znaleźć np. [tutaj](http://www.algorytm.org/algorytmy-arytmetyczne/zamiana-z-i-na-system-rzymski.html)"
   ]
  },
  {
   "cell_type": "code",
   "execution_count": 3,
   "metadata": {
    "pycharm": {
     "is_executing": false,
     "name": "#%%\n"
    }
   },
   "outputs": [
    {
     "name": "stdout",
     "output_type": "stream",
     "text": [
      "2416\n"
     ]
    }
   ],
   "source": [
    "digits = { \"M\": 1000,\n",
    "           \"D\": 500,\n",
    "           \"C\": 100,\n",
    "           \"L\": 50,\n",
    "           \"X\": 10,\n",
    "           \"V\": 5,\n",
    "           \"I\": 1\n",
    "           }\n",
    "\n",
    "def to_arabic(number):\n",
    "    result = 0\n",
    "    i = 0\n",
    "    for current_digit in digits:\n",
    "        while i<len(number):\n",
    "            if number[i] == current_digit:\n",
    "                result += digits[current_digit]\n",
    "                i += 1\n",
    "            elif len(number) - i >= 2 and current_digit == \"X\" and number[i] == \"I\" and number[i+1] == \"X\":\n",
    "                    result += 9\n",
    "                    i += 2\n",
    "                    break\n",
    "            elif len(number) - i >= 2 and current_digit == \"C\" and number[i] == \"X\" and number[i+1] == \"C\":\n",
    "                    result += 90\n",
    "                    i += 2\n",
    "                    break\n",
    "            elif len(number) - i >= 2 and current_digit == \"M\" and number[i] == \"C\" and number[i+1] == \"M\":\n",
    "                    result += 900\n",
    "                    i += 2\n",
    "                    break\n",
    "            elif len(number) - i >= 2 and current_digit == \"V\" and number[i] == \"I\" and number[i+1] == \"V\":\n",
    "                    result += 4\n",
    "                    i += 2\n",
    "                    break\n",
    "            elif len(number) - i >= 2 and current_digit == \"L\" and number[i] == \"X\" and number[i+1] == \"L\":\n",
    "                    result += 40\n",
    "                    i += 2\n",
    "                    break\n",
    "            elif len(number) - i >= 2 and current_digit == \"D\" and number[i] == \"C\" and number[i+1] == \"D\":\n",
    "                    result += 400\n",
    "                    i += 2\n",
    "                    break\n",
    "            else:\n",
    "                break\n",
    "    return result\n",
    "print(to_arabic(\"MMCDXVI\"))"
   ]
  },
  {
   "cell_type": "markdown",
   "metadata": {},
   "source": [
    "## Zadanie 9* _(5pt)_\n",
    "\n",
    "Napisz program kalkulator, który pobiera wprowadzone wartości oraz funkcje z klawiatury następnie podaje wynik. W przypadku błędnych danych zgłasza błąd.\n",
    "\n",
    "Przykładowa sesja:\n",
    "```\n",
    "    Kalkulator\n",
    "    [1]: 2+5*10\n",
    "        52\n",
    "    [2]: sin(0.5)+cos(0.3)\n",
    "        1.434762027729809\n",
    "    [3]: 2^100\n",
    "        1267650600228229401496703205376\n",
    "```\n",
    "\n",
    "Przykładowy kod pobierania danych od użytkownika:\n",
    "\n",
    "```\n",
    "    x = input('Podaj x = ')\n",
    "```"
   ]
  },
  {
   "cell_type": "code",
   "execution_count": 6,
   "metadata": {
    "pycharm": {
     "is_executing": false,
     "name": "#%%\n"
    }
   },
   "outputs": [
    {
     "name": "stdout",
     "output_type": "stream",
     "text": [
      "Podaj x = a\n",
      "Funkcja nie istnieje\n",
      "Podaj x = sd\n",
      "Funkcja nie istnieje\n",
      "Podaj x = 2+3\n",
      "5\n",
      "Podaj x = 2**100\n",
      "1267650600228229401496703205376\n",
      "Podaj x = stop\n"
     ]
    }
   ],
   "source": [
    "x = input('Podaj x = ')\n",
    "while x!=\"stop\":\n",
    "    try:\n",
    "        print(eval(x))\n",
    "    except NameError:\n",
    "        print(\"Funkcja nie istnieje\")\n",
    "    x = input('Podaj x = ')\n"
   ]
  },
  {
   "cell_type": "markdown",
   "metadata": {},
   "source": [
    "\n",
    "## Zadanie 10* _(10pt)_\n",
    "\n",
    "Napisz program, który rysuje na ekranie w trybie znakowym wykres funkcji zmiennej $x$. Wskazówka: utwórz  ,,tablicę dwuwymiarową'' o wymiarach 80x24 i narysuj wykres w tej tablicy. Następnie wynik wyświetl na ekranie.\n",
    "\n",
    "```\n",
    "        Podaj funkcje f(x) = sin(x)\n",
    "        Podaj początek przedziału a = -pi\n",
    "        Podaj koniec przedziału b = pi\n",
    "                                                |\n",
    "                                                |\n",
    "                                                |              ***********\n",
    "                                                |           ***           ***\n",
    "                                                |         **                 **\n",
    "                                                |        *                     *\n",
    "                                                |      **                       **\n",
    "                                                |     *                           *\n",
    "                                                |   **                             **\n",
    "                                                |  *                                 *\n",
    "                                                | *                                   *\n",
    "                                                |*                                     *\n",
    "        ----------------------------------------|---------------------------------------\n",
    "          *                                   * |\n",
    "           *                                 *  |\n",
    "            **                             **   |\n",
    "              *                           *     |\n",
    "               **                       **      |\n",
    "                 *                     *        |\n",
    "                  **                 **         |\n",
    "                    ***           ***           |\n",
    "                       ***** *****              |\n",
    "                            *                   |\n",
    "                                                |\n",
    "```"
   ]
  },
  {
   "cell_type": "code",
   "execution_count": 7,
   "metadata": {
    "pycharm": {
     "is_executing": false,
     "name": "#%%\n"
    }
   },
   "outputs": [
    {
     "name": "stdout",
     "output_type": "stream",
     "text": [
      "Podaj funkcję f(x) = log\n",
      "Podaj początek przedziału a = 1\n",
      "Podaj początek przedziału b = 100\n",
      "|                                                                       ********\n",
      "|                                                          *************        \n",
      "|                                               ***********                     \n",
      "|                                      *********                                \n",
      "|                               *******                                         \n",
      "|                         ******                                                \n",
      "|                    *****                                                      \n",
      "|                 ***                                                           \n",
      "|             ****                                                              \n",
      "|           **                                                                  \n",
      "|        ***                                                                    \n",
      "|       *                                                                       \n",
      "|     **                                                                        \n",
      "|    *                                                                          \n",
      "|   *                                                                           \n",
      "|  *                                                                            \n",
      "|                                                                               \n",
      "| *                                                                             \n",
      "|                                                                               \n",
      "|*                                                                              \n",
      "|                                                                               \n",
      "|                                                                               \n",
      "|                                                                               \n",
      "|-------------------------------------------------------------------------------\n"
     ]
    }
   ],
   "source": [
    "import cmath\n",
    "from cmath import *\n",
    "fun = input(\"Podaj funkcję f(x) = \")\n",
    "range_start = eval(input(\"Podaj początek przedziału a = \"))\n",
    "range_end = eval(input(\"Podaj początek przedziału b = \"))\n",
    "\n",
    "def print_plot(my_plot):\n",
    "    for i in my_plot:\n",
    "        for j in i:\n",
    "            print(j, end=\"\")\n",
    "        print()\n",
    "\n",
    "values = []\n",
    "y_axis = abs(range_start)\n",
    "y_axis_number = 0\n",
    "x = range_start\n",
    "my_range = range_end - range_start\n",
    "for i in range(0,80):\n",
    "    x = range_start + i * my_range/80\n",
    "    values.append(eval(fun)(x))\n",
    "    if abs(x) < y_axis:\n",
    "        y_axis = abs(x)\n",
    "        y_axis_number = i\n",
    "    \n",
    "values = [i.real for i in values]\n",
    "\n",
    "max_value = max(values)\n",
    "min_value = min(values)\n",
    "\n",
    "values = [int(23.5 - (i - min_value)*23/(max_value-min_value)) for i in values]\n",
    "\n",
    "plot = [[\" \" for i in range(0,80)] for j in range(0, 24)]\n",
    "\n",
    "for i, value in enumerate(values):\n",
    "    plot[int(value)][i] = \"*\"\n",
    "    \n",
    "x_axis = 0\n",
    "def add_axis(my_plot):\n",
    "    x_axis = int(23.5 - (0 - min_value)*23/(max_value-min_value))\n",
    "    for i in range(0, 80):\n",
    "        plot[x_axis][i] = \"-\"\n",
    "    for i in range(0, 24):\n",
    "        plot[i][y_axis_number] = \"|\"\n",
    "\n",
    "  \n",
    "add_axis(plot)\n",
    "print_plot(plot)  \n",
    "\n",
    "\n"
   ]
  }
 ],
 "metadata": {
  "kernelspec": {
   "display_name": "Python 3",
   "language": "python",
   "name": "python3"
  },
  "language_info": {
   "codemirror_mode": {
    "name": "ipython",
    "version": 3
   },
   "file_extension": ".py",
   "mimetype": "text/x-python",
   "name": "python",
   "nbconvert_exporter": "python",
   "pygments_lexer": "ipython3",
   "version": "3.7.5"
  },
  "pycharm": {
   "stem_cell": {
    "cell_type": "raw",
    "metadata": {
     "collapsed": false
    },
    "source": []
   }
  }
 },
 "nbformat": 4,
 "nbformat_minor": 1
}
